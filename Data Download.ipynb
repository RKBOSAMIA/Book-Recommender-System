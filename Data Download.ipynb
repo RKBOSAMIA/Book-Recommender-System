{
 "cells": [
  {
   "cell_type": "code",
   "execution_count": 1,
   "metadata": {
    "colab": {},
    "colab_type": "code",
    "executionInfo": {
     "elapsed": 332,
     "status": "ok",
     "timestamp": 1595977615025,
     "user": {
      "displayName": "Rushikesh Nileshbhai Bosamia",
      "photoUrl": "",
      "userId": "10236464677723168905"
     },
     "user_tz": 420
    },
    "id": "TGgwDVImaaGN"
   },
   "outputs": [],
   "source": [
    "import os\n",
    "import json\n",
    "import gdown"
   ]
  },
  {
   "cell_type": "code",
   "execution_count": 2,
   "metadata": {},
   "outputs": [
    {
     "data": {
      "text/plain": [
       "'/home/014491542'"
      ]
     },
     "execution_count": 2,
     "metadata": {},
     "output_type": "execute_result"
    }
   ],
   "source": [
    "os.getcwd()"
   ]
  },
  {
   "cell_type": "code",
   "execution_count": 9,
   "metadata": {
    "colab": {},
    "colab_type": "code",
    "executionInfo": {
     "elapsed": 322,
     "status": "ok",
     "timestamp": 1595977620497,
     "user": {
      "displayName": "Rushikesh Nileshbhai Bosamia",
      "photoUrl": "",
      "userId": "10236464677723168905"
     },
     "user_tz": 420
    },
    "id": "MpalD0-TahYi"
   },
   "outputs": [],
   "source": [
    "OUT_DIR = '/home/014491542/CMPE-256 HW2/Comics-Graphics/'\n",
    "url = 'https://drive.google.com/uc?id='"
   ]
  },
  {
   "cell_type": "code",
   "execution_count": 4,
   "metadata": {
    "colab": {},
    "colab_type": "code",
    "id": "IwhOaQMLaknS"
   },
   "outputs": [],
   "source": [
    "ComicsGraphics={\n",
    "    'books':'1ICk5x0HXvXDp5Zt54CKPh5qz1HyUIn9m',\n",
    "    'reviews':'1V4MLeoEiPQdocCbUHjR_7L9ZmxTufPFe'}"
   ]
  },
  {
   "cell_type": "code",
   "execution_count": null,
   "metadata": {
    "colab": {},
    "colab_type": "code",
    "id": "ftDA5x-NrHtO"
   },
   "outputs": [],
   "source": [
    "os.chdir(OUT_DIR)\n",
    "for key in ComicsGraphics.keys():\n",
    "    gdown.download(url+ComicsGraphics[key],None,False)"
   ]
  },
  {
   "cell_type": "code",
   "execution_count": 6,
   "metadata": {
    "colab": {},
    "colab_type": "code",
    "executionInfo": {
     "elapsed": 366,
     "status": "ok",
     "timestamp": 1595977622402,
     "user": {
      "displayName": "Rushikesh Nileshbhai Bosamia",
      "photoUrl": "",
      "userId": "10236464677723168905"
     },
     "user_tz": 420
    },
    "id": "-y0SnD7dqvUt"
   },
   "outputs": [],
   "source": [
    "OUT_DIR = '/home/014491542/CMPE-256 HW2/Fantasy-Paranormal/'\n",
    "FantasyParanormal={\n",
    "    'books':'1x8IudloezYEg6qDTPxuBkqGuQ3xIBKrt',\n",
    "    'reviews':'1THnnmE4XSCvMkGOsqapQr2cJI5amKA6X'\n",
    "}"
   ]
  },
  {
   "cell_type": "code",
   "execution_count": 5,
   "metadata": {
    "colab": {
     "base_uri": "https://localhost:8080/",
     "height": 173
    },
    "colab_type": "code",
    "executionInfo": {
     "elapsed": 37343,
     "status": "ok",
     "timestamp": 1595977702056,
     "user": {
      "displayName": "Rushikesh Nileshbhai Bosamia",
      "photoUrl": "",
      "userId": "10236464677723168905"
     },
     "user_tz": 420
    },
    "id": "qX6Xx49orVjg",
    "outputId": "30b9e871-cc60-496b-98c3-61f2ab7edff7"
   },
   "outputs": [
    {
     "name": "stderr",
     "output_type": "stream",
     "text": [
      "Downloading...\n",
      "From: https://drive.google.com/uc?id=1x8IudloezYEg6qDTPxuBkqGuQ3xIBKrt\n",
      "To: /content/drive/My Drive/Assignments/256/Assignment-2/Fantasy-Paranormal/goodreads_books_fantasy_paranormal.json.gz\n",
      "278MB [00:03, 73.8MB/s]\n",
      "Downloading...\n",
      "From: https://drive.google.com/uc?id=1THnnmE4XSCvMkGOsqapQr2cJI5amKA6X\n",
      "To: /content/drive/My Drive/Assignments/256/Assignment-2/Fantasy-Paranormal/goodreads_reviews_fantasy_paranormal.json.gz\n",
      "1.26GB [00:19, 64.0MB/s]\n"
     ]
    }
   ],
   "source": [
    "os.chdir(OUT_DIR)\n",
    "for key in FantasyParanormal.keys():\n",
    "    gdown.download(url+FantasyParanormal[key],None,False)"
   ]
  },
  {
   "cell_type": "code",
   "execution_count": null,
   "metadata": {
    "colab": {},
    "colab_type": "code",
    "id": "TY7qCbtxreW7"
   },
   "outputs": [],
   "source": []
  }
 ],
 "metadata": {
  "colab": {
   "authorship_tag": "ABX9TyP9KOYZeYK26Ve9YmGNbefW",
   "mount_file_id": "1VPE7i7Hq3fPlXPOhuGmlrDyetz8TnTSC",
   "name": "Data Download.ipynb",
   "provenance": []
  },
  "kernelspec": {
   "display_name": "Python 3",
   "language": "python",
   "name": "python3"
  },
  "language_info": {
   "codemirror_mode": {
    "name": "ipython",
    "version": 3
   },
   "file_extension": ".py",
   "mimetype": "text/x-python",
   "name": "python",
   "nbconvert_exporter": "python",
   "pygments_lexer": "ipython3",
   "version": "3.7.0"
  }
 },
 "nbformat": 4,
 "nbformat_minor": 1
}
