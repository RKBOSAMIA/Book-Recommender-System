{
 "cells": [
  {
   "cell_type": "code",
   "execution_count": 1,
   "metadata": {
    "colab": {},
    "colab_type": "code",
    "executionInfo": {
     "elapsed": 1236,
     "status": "ok",
     "timestamp": 1595978388621,
     "user": {
      "displayName": "Rushikesh Nileshbhai Bosamia",
      "photoUrl": "",
      "userId": "10236464677723168905"
     },
     "user_tz": 420
    },
    "id": "hbUTP9Nwrbow"
   },
   "outputs": [],
   "source": [
    "import re\n",
    "import json\n",
    "import gzip\n",
    "import numpy as np\n",
    "import pandas as pd\n",
    "import ast\n",
    "from collections import defaultdict"
   ]
  },
  {
   "cell_type": "code",
   "execution_count": 2,
   "metadata": {
    "colab": {},
    "colab_type": "code",
    "executionInfo": {
     "elapsed": 591,
     "status": "ok",
     "timestamp": 1595978389666,
     "user": {
      "displayName": "Rushikesh Nileshbhai Bosamia",
      "photoUrl": "",
      "userId": "10236464677723168905"
     },
     "user_tz": 420
    },
    "id": "TcVdO3m9sTA-"
   },
   "outputs": [],
   "source": [
    "def parse(path):\n",
    "    g = gzip.open(path, 'r')\n",
    "    for l in g:\n",
    "        yield eval(str(l))"
   ]
  },
  {
   "cell_type": "code",
   "execution_count": 3,
   "metadata": {
    "colab": {},
    "colab_type": "code",
    "executionInfo": {
     "elapsed": 402,
     "status": "ok",
     "timestamp": 1595978390671,
     "user": {
      "displayName": "Rushikesh Nileshbhai Bosamia",
      "photoUrl": "",
      "userId": "10236464677723168905"
     },
     "user_tz": 420
    },
    "id": "loKGkqhT39eb"
   },
   "outputs": [],
   "source": [
    "# PARSING DATA FILES FOR AUTHORS AND GENRES: COMICS-GRAPHICS AND FANTASY-PARANORMAL\n",
    "\n",
    "booksComics = parse('/home/014491542/CMPE-256 HW2/Datasets/Comics-Graphics/goodreads_books_comics_graphic.json.gz')\n",
    "reviewsComics = parse('/home/014491542/CMPE-256 HW2/Datasets/Comics-Graphics/goodreads_reviews_comics_graphic.json.gz')\n",
    "booksFantasy = parse('/home/014491542/CMPE-256 HW2/Datasets//Fantasy-Paranormal/goodreads_books_fantasy_paranormal.json.gz')\n",
    "reviewsFantasy = parse('/home/014491542/CMPE-256 HW2/Datasets//Fantasy-Paranormal/goodreads_reviews_fantasy_paranormal.json.gz')\n",
    "authors = parse('/home/014491542/CMPE-256 HW2/Datasets/Authors/goodreads_book_authors.json.gz')"
   ]
  },
  {
   "cell_type": "code",
   "execution_count": 4,
   "metadata": {
    "colab": {},
    "colab_type": "code",
    "executionInfo": {
     "elapsed": 961,
     "status": "ok",
     "timestamp": 1595978392716,
     "user": {
      "displayName": "Rushikesh Nileshbhai Bosamia",
      "photoUrl": "",
      "userId": "10236464677723168905"
     },
     "user_tz": 420
    },
    "id": "pQRDXZQqsBgD"
   },
   "outputs": [],
   "source": [
    "# FILTERING COLUMNS FOR BOOK DATA, AUTHORS DATA AND REVIEW DATA\n",
    "\n",
    "book_cols = ['book_id','title','text_reviews_count','country_code','language_code','popular_shelves','is_ebook','average_rating','description','authors','num_pages']\n",
    "review_cols = ['book_id','user_id','review_text','rating','n_votes','n_comments']\n",
    "auth_cols = ['author_id','name']"
   ]
  },
  {
   "cell_type": "code",
   "execution_count": 5,
   "metadata": {
    "colab": {
     "base_uri": "https://localhost:8080/",
     "height": 102
    },
    "colab_type": "code",
    "executionInfo": {
     "elapsed": 20156,
     "status": "ok",
     "timestamp": 1595978513959,
     "user": {
      "displayName": "Rushikesh Nileshbhai Bosamia",
      "photoUrl": "",
      "userId": "10236464677723168905"
     },
     "user_tz": 420
    },
    "id": "VpbnatKl4mM9",
    "outputId": "d0321a84-cf1f-4c55-cdd5-12714bc60b0b"
   },
   "outputs": [
    {
     "name": "stdout",
     "output_type": "stream",
     "text": [
      "(89411, 11)\n",
      "Index(['book_id', 'title', 'text_reviews_count', 'country_code',\n",
      "       'language_code', 'popular_shelves', 'is_ebook', 'average_rating',\n",
      "       'description', 'authors', 'num_pages'],\n",
      "      dtype='object')\n"
     ]
    }
   ],
   "source": [
    "# DATAFRAME GENERATION FOR COMIC BOOKS\n",
    "\n",
    "bComics = defaultdict(list)\n",
    "for book in booksComics:\n",
    "    temp = json.loads(book)\n",
    "    for key,val in temp.items():\n",
    "        bComics[key].append(val)\n",
    "\n",
    "bComics_df = pd.DataFrame(bComics)\n",
    "bComics_df = bComics_df[book_cols]\n",
    "\n",
    "print(bComics_df.shape)\n",
    "print(bComics_df.columns)"
   ]
  },
  {
   "cell_type": "code",
   "execution_count": 6,
   "metadata": {
    "colab": {
     "base_uri": "https://localhost:8080/",
     "height": 102
    },
    "colab_type": "code",
    "executionInfo": {
     "elapsed": 78170,
     "status": "ok",
     "timestamp": 1595978596085,
     "user": {
      "displayName": "Rushikesh Nileshbhai Bosamia",
      "photoUrl": "",
      "userId": "10236464677723168905"
     },
     "user_tz": 420
    },
    "id": "9mRGgyvPsu-M",
    "outputId": "d30381cd-58d7-4693-ac7e-05b6a708ff82"
   },
   "outputs": [
    {
     "name": "stdout",
     "output_type": "stream",
     "text": [
      "(258585, 11)\n",
      "Index(['book_id', 'title', 'text_reviews_count', 'country_code',\n",
      "       'language_code', 'popular_shelves', 'is_ebook', 'average_rating',\n",
      "       'description', 'authors', 'num_pages'],\n",
      "      dtype='object')\n"
     ]
    }
   ],
   "source": [
    "# DATAFRAME GENERATION FOR FANTASY BOOKS\n",
    "\n",
    "bFantasy = defaultdict(list)\n",
    "for book in booksFantasy:\n",
    "    temp = json.loads(book)\n",
    "    for key,val in temp.items():\n",
    "        bFantasy[key].append(val)\n",
    "\n",
    "bFantasy_df = pd.DataFrame(bFantasy)\n",
    "bFantasy_df = bFantasy_df[book_cols]\n",
    "\n",
    "print(bFantasy_df.shape)\n",
    "print(bFantasy_df.columns)"
   ]
  },
  {
   "cell_type": "code",
   "execution_count": 8,
   "metadata": {
    "colab": {
     "base_uri": "https://localhost:8080/"
    },
    "colab_type": "code",
    "executionInfo": {
     "elapsed": 25219,
     "status": "ok",
     "timestamp": 1595981039252,
     "user": {
      "displayName": "Rushikesh Nileshbhai Bosamia",
      "photoUrl": "",
      "userId": "10236464677723168905"
     },
     "user_tz": 420
    },
    "id": "4gX9S0XFz6fB",
    "outputId": "a176004f-802a-4f4a-d9cb-2c1a32971448"
   },
   "outputs": [
    {
     "name": "stdout",
     "output_type": "stream",
     "text": [
      "(542338, 6)\n",
      "Index(['book_id', 'user_id', 'review_text', 'rating', 'n_votes', 'n_comments'], dtype='object')\n"
     ]
    }
   ],
   "source": [
    "# DATAFRAME GENERATION FOR COMIC BOOKS REVIEWS\n",
    "\n",
    "rComics = defaultdict(list)\n",
    "for review in reviewsComics:\n",
    "    temp = json.loads(review)\n",
    "    for key,val in temp.items():\n",
    "        rComics[key].append(val)\n",
    "\n",
    "rComics_df = pd.DataFrame(rComics)\n",
    "rComics_df = rComics_df[review_cols]\n",
    "\n",
    "print(rComics_df.shape)\n",
    "print(rComics_df.columns)"
   ]
  },
  {
   "cell_type": "code",
   "execution_count": 7,
   "metadata": {
    "colab": {},
    "colab_type": "code",
    "id": "mMng7iBRtEGR"
   },
   "outputs": [
    {
     "name": "stdout",
     "output_type": "stream",
     "text": [
      "(3424641, 6)\n",
      "Index(['book_id', 'user_id', 'review_text', 'rating', 'n_votes', 'n_comments'], dtype='object')\n"
     ]
    }
   ],
   "source": [
    "# DATAFRAME GENERATION FOR FANTASY BOOKS REVIEWS\n",
    "\n",
    "rFantasy = defaultdict(list)\n",
    "for review in reviewsFantasy:\n",
    "    temp = json.loads(review)\n",
    "    for key,val in temp.items():\n",
    "        rFantasy[key].append(val)\n",
    "\n",
    "rFantasy_df = pd.DataFrame(rFantasy)\n",
    "rFantasy_df = rFantasy_df[review_cols]\n",
    "\n",
    "print(rFantasy_df.shape)\n",
    "print(rFantasy_df.columns)"
   ]
  },
  {
   "cell_type": "code",
   "execution_count": 9,
   "metadata": {},
   "outputs": [
    {
     "name": "stdout",
     "output_type": "stream",
     "text": [
      "(829529, 2)\n",
      "Index(['author_id', 'name'], dtype='object')\n"
     ]
    }
   ],
   "source": [
    "# DATAFRAME GENERATION FOR AUTHORS\n",
    "\n",
    "authorsDict = defaultdict(list)\n",
    "for author in authors:\n",
    "    temp = json.loads(author)\n",
    "    for key,val in temp.items():\n",
    "        authorsDict[key].append(val)\n",
    "\n",
    "author_df = pd.DataFrame(authorsDict)\n",
    "author_df = author_df[auth_cols]\n",
    "\n",
    "print(author_df.shape)\n",
    "print(author_df.columns)"
   ]
  },
  {
   "cell_type": "code",
   "execution_count": 10,
   "metadata": {
    "colab": {},
    "colab_type": "code",
    "id": "1EVBC76-O4jE"
   },
   "outputs": [
    {
     "name": "stdout",
     "output_type": "stream",
     "text": [
      "(3424641, 17)\n"
     ]
    }
   ],
   "source": [
    "# MERGING FANTASY BOOKS AND REVIEWS DATAFRAMES ON BOOK ID\n",
    "\n",
    "fantasyCombined = pd.merge(bFantasy_df,rFantasy_df,how='inner',on='book_id')\n",
    "fantasyCombined['genre'] = 'Fantasy and Paranormal'\n",
    "print(fantasyCombined.shape)"
   ]
  },
  {
   "cell_type": "code",
   "execution_count": 11,
   "metadata": {},
   "outputs": [
    {
     "name": "stdout",
     "output_type": "stream",
     "text": [
      "(542338, 17)\n"
     ]
    }
   ],
   "source": [
    "# MERGING COMIC BOOKS AND REVIEWS DATAFRAMES ON BOOK ID\n",
    "\n",
    "comicCombined = pd.merge(bComics_df,rComics_df,how='inner',on='book_id') \n",
    "comicCombined['genre'] = 'Comics and Graphics'\n",
    "print(comicCombined.shape)"
   ]
  },
  {
   "cell_type": "code",
   "execution_count": 16,
   "metadata": {},
   "outputs": [],
   "source": [
    "comicCombined.to_csv('/home/014491542/CMPE-256 HW2/Datasets/csv-files/Comics-Graphics.csv',index=False)"
   ]
  },
  {
   "cell_type": "code",
   "execution_count": 24,
   "metadata": {},
   "outputs": [
    {
     "name": "stdout",
     "output_type": "stream",
     "text": [
      "(3966979, 17)\n"
     ]
    }
   ],
   "source": [
    "# CONCATENATING FOR FINAL DATASET\n",
    "\n",
    "final_df = pd.concat([fantasyCombined,comicCombined],axis=0)\n",
    "print(final_df.shape)"
   ]
  },
  {
   "cell_type": "code",
   "execution_count": 25,
   "metadata": {},
   "outputs": [],
   "source": [
    "# ADDING AUTHOR ID COLUMN TO THE FINAL DF\n",
    "\n",
    "auth_id = list()\n",
    "for author in final_df.authors.astype('str'):\n",
    "    author = ast.literal_eval(author)\n",
    "    auth_id.append(author[0]['author_id'])\n",
    "\n",
    "final_df['author_id'] = auth_id"
   ]
  },
  {
   "cell_type": "code",
   "execution_count": 26,
   "metadata": {},
   "outputs": [
    {
     "name": "stdout",
     "output_type": "stream",
     "text": [
      "(3966979, 16)\n"
     ]
    }
   ],
   "source": [
    "final_df = pd.merge(final_df,author_df,on='author_id',how='inner')\n",
    "final_df.drop(columns=['author_id','authors','popular_shelves'],inplace=True)\n",
    "final_df.rename(columns={'name':'author_name'},inplace=True)\n",
    "final_df.dropna(inplace=True)\n",
    "print(final_df.shape)"
   ]
  },
  {
   "cell_type": "code",
   "execution_count": 27,
   "metadata": {},
   "outputs": [
    {
     "data": {
      "text/html": [
       "<div>\n",
       "<style scoped>\n",
       "    .dataframe tbody tr th:only-of-type {\n",
       "        vertical-align: middle;\n",
       "    }\n",
       "\n",
       "    .dataframe tbody tr th {\n",
       "        vertical-align: top;\n",
       "    }\n",
       "\n",
       "    .dataframe thead th {\n",
       "        text-align: right;\n",
       "    }\n",
       "</style>\n",
       "<table border=\"1\" class=\"dataframe\">\n",
       "  <thead>\n",
       "    <tr style=\"text-align: right;\">\n",
       "      <th></th>\n",
       "      <th>book_id</th>\n",
       "      <th>title</th>\n",
       "      <th>text_reviews_count</th>\n",
       "      <th>country_code</th>\n",
       "      <th>language_code</th>\n",
       "      <th>is_ebook</th>\n",
       "      <th>average_rating</th>\n",
       "      <th>description</th>\n",
       "      <th>num_pages</th>\n",
       "      <th>user_id</th>\n",
       "      <th>review_text</th>\n",
       "      <th>rating</th>\n",
       "      <th>n_votes</th>\n",
       "      <th>n_comments</th>\n",
       "      <th>genre</th>\n",
       "      <th>author_name</th>\n",
       "    </tr>\n",
       "  </thead>\n",
       "  <tbody>\n",
       "    <tr>\n",
       "      <th>0</th>\n",
       "      <td>7327624</td>\n",
       "      <td>The Unschooled Wizard (Sun Wolf and Starhawk, ...</td>\n",
       "      <td>7</td>\n",
       "      <td>US</td>\n",
       "      <td>eng</td>\n",
       "      <td>false</td>\n",
       "      <td>4.03</td>\n",
       "      <td>Omnibus book club edition containing the Ladie...</td>\n",
       "      <td>600</td>\n",
       "      <td>d202352e716421da4ef3f7937df7c3f7</td>\n",
       "      <td>Competent. I'm sure I read the first half year...</td>\n",
       "      <td>3</td>\n",
       "      <td>1</td>\n",
       "      <td>0</td>\n",
       "      <td>Fantasy and Paranormal</td>\n",
       "      <td>Barbara Hambly</td>\n",
       "    </tr>\n",
       "    <tr>\n",
       "      <th>1</th>\n",
       "      <td>7327624</td>\n",
       "      <td>The Unschooled Wizard (Sun Wolf and Starhawk, ...</td>\n",
       "      <td>7</td>\n",
       "      <td>US</td>\n",
       "      <td>eng</td>\n",
       "      <td>false</td>\n",
       "      <td>4.03</td>\n",
       "      <td>Omnibus book club edition containing the Ladie...</td>\n",
       "      <td>600</td>\n",
       "      <td>18b61748a52de671cb549d812b9740c8</td>\n",
       "      <td>While these books are excellent overall, I thi...</td>\n",
       "      <td>4</td>\n",
       "      <td>0</td>\n",
       "      <td>0</td>\n",
       "      <td>Fantasy and Paranormal</td>\n",
       "      <td>Barbara Hambly</td>\n",
       "    </tr>\n",
       "    <tr>\n",
       "      <th>2</th>\n",
       "      <td>7327624</td>\n",
       "      <td>The Unschooled Wizard (Sun Wolf and Starhawk, ...</td>\n",
       "      <td>7</td>\n",
       "      <td>US</td>\n",
       "      <td>eng</td>\n",
       "      <td>false</td>\n",
       "      <td>4.03</td>\n",
       "      <td>Omnibus book club edition containing the Ladie...</td>\n",
       "      <td>600</td>\n",
       "      <td>24ec19e5301ffc5c8a030eac0d7a4ed2</td>\n",
       "      <td>A collection of two novels about the mercenary...</td>\n",
       "      <td>3</td>\n",
       "      <td>0</td>\n",
       "      <td>0</td>\n",
       "      <td>Fantasy and Paranormal</td>\n",
       "      <td>Barbara Hambly</td>\n",
       "    </tr>\n",
       "    <tr>\n",
       "      <th>3</th>\n",
       "      <td>438134</td>\n",
       "      <td>Bride of the Rat God</td>\n",
       "      <td>65</td>\n",
       "      <td>US</td>\n",
       "      <td>eng</td>\n",
       "      <td>false</td>\n",
       "      <td>3.76</td>\n",
       "      <td>Chrysanda Flamande was the sultriest vamp of t...</td>\n",
       "      <td>336</td>\n",
       "      <td>018fb46979eaef202859956d5ccb905b</td>\n",
       "      <td>I'm always impressed by how different the book...</td>\n",
       "      <td>4</td>\n",
       "      <td>0</td>\n",
       "      <td>0</td>\n",
       "      <td>Fantasy and Paranormal</td>\n",
       "      <td>Barbara Hambly</td>\n",
       "    </tr>\n",
       "    <tr>\n",
       "      <th>4</th>\n",
       "      <td>438134</td>\n",
       "      <td>Bride of the Rat God</td>\n",
       "      <td>65</td>\n",
       "      <td>US</td>\n",
       "      <td>eng</td>\n",
       "      <td>false</td>\n",
       "      <td>3.76</td>\n",
       "      <td>Chrysanda Flamande was the sultriest vamp of t...</td>\n",
       "      <td>336</td>\n",
       "      <td>c2579fbf15fdad5cff26de01fe973db6</td>\n",
       "      <td>Absolute hoot of a book. Early Hollywood setti...</td>\n",
       "      <td>4</td>\n",
       "      <td>0</td>\n",
       "      <td>0</td>\n",
       "      <td>Fantasy and Paranormal</td>\n",
       "      <td>Barbara Hambly</td>\n",
       "    </tr>\n",
       "  </tbody>\n",
       "</table>\n",
       "</div>"
      ],
      "text/plain": [
       "   book_id                                              title  \\\n",
       "0  7327624  The Unschooled Wizard (Sun Wolf and Starhawk, ...   \n",
       "1  7327624  The Unschooled Wizard (Sun Wolf and Starhawk, ...   \n",
       "2  7327624  The Unschooled Wizard (Sun Wolf and Starhawk, ...   \n",
       "3   438134                               Bride of the Rat God   \n",
       "4   438134                               Bride of the Rat God   \n",
       "\n",
       "  text_reviews_count country_code language_code is_ebook average_rating  \\\n",
       "0                  7           US           eng    false           4.03   \n",
       "1                  7           US           eng    false           4.03   \n",
       "2                  7           US           eng    false           4.03   \n",
       "3                 65           US           eng    false           3.76   \n",
       "4                 65           US           eng    false           3.76   \n",
       "\n",
       "                                         description num_pages  \\\n",
       "0  Omnibus book club edition containing the Ladie...       600   \n",
       "1  Omnibus book club edition containing the Ladie...       600   \n",
       "2  Omnibus book club edition containing the Ladie...       600   \n",
       "3  Chrysanda Flamande was the sultriest vamp of t...       336   \n",
       "4  Chrysanda Flamande was the sultriest vamp of t...       336   \n",
       "\n",
       "                            user_id  \\\n",
       "0  d202352e716421da4ef3f7937df7c3f7   \n",
       "1  18b61748a52de671cb549d812b9740c8   \n",
       "2  24ec19e5301ffc5c8a030eac0d7a4ed2   \n",
       "3  018fb46979eaef202859956d5ccb905b   \n",
       "4  c2579fbf15fdad5cff26de01fe973db6   \n",
       "\n",
       "                                         review_text  rating  n_votes  \\\n",
       "0  Competent. I'm sure I read the first half year...       3        1   \n",
       "1  While these books are excellent overall, I thi...       4        0   \n",
       "2  A collection of two novels about the mercenary...       3        0   \n",
       "3  I'm always impressed by how different the book...       4        0   \n",
       "4  Absolute hoot of a book. Early Hollywood setti...       4        0   \n",
       "\n",
       "   n_comments                   genre     author_name  \n",
       "0           0  Fantasy and Paranormal  Barbara Hambly  \n",
       "1           0  Fantasy and Paranormal  Barbara Hambly  \n",
       "2           0  Fantasy and Paranormal  Barbara Hambly  \n",
       "3           0  Fantasy and Paranormal  Barbara Hambly  \n",
       "4           0  Fantasy and Paranormal  Barbara Hambly  "
      ]
     },
     "execution_count": 27,
     "metadata": {},
     "output_type": "execute_result"
    }
   ],
   "source": [
    "final_df.head()"
   ]
  },
  {
   "cell_type": "code",
   "execution_count": 28,
   "metadata": {
    "scrolled": true
   },
   "outputs": [],
   "source": [
    "# DUMPING THE DATAFRAME TO CSV FILE\n",
    "\n",
    "final_df.to_csv('/home/014491542/CMPE-256 HW2/Datasets/csv-files/DataSet.csv',index=False)"
   ]
  }
 ],
 "metadata": {
  "colab": {
   "authorship_tag": "ABX9TyNN69wfyVStYe4e0UdmVzxE",
   "mount_file_id": "1UO9UOtwxq7FrZvoPCYdTC3yFlXlj9Xbk",
   "name": "Dataset Preparation.ipynb",
   "provenance": []
  },
  "kernelspec": {
   "display_name": "Python 3",
   "language": "python",
   "name": "python3"
  },
  "language_info": {
   "codemirror_mode": {
    "name": "ipython",
    "version": 3
   },
   "file_extension": ".py",
   "mimetype": "text/x-python",
   "name": "python",
   "nbconvert_exporter": "python",
   "pygments_lexer": "ipython3",
   "version": "3.7.0"
  }
 },
 "nbformat": 4,
 "nbformat_minor": 1
}
