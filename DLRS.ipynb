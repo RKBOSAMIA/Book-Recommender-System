{
  "nbformat": 4,
  "nbformat_minor": 0,
  "metadata": {
    "kernelspec": {
      "display_name": "Python 3",
      "language": "python",
      "name": "python3"
    },
    "language_info": {
      "codemirror_mode": {
        "name": "ipython",
        "version": 3
      },
      "file_extension": ".py",
      "mimetype": "text/x-python",
      "name": "python",
      "nbconvert_exporter": "python",
      "pygments_lexer": "ipython3",
      "version": "3.7.0"
    },
    "colab": {
      "name": "DLRM.ipynb",
      "provenance": []
    }
  },
  "cells": [
    {
      "cell_type": "markdown",
      "metadata": {
        "id": "LbG4Wrs2EVVJ",
        "colab_type": "text"
      },
      "source": [
        "# **Collaborative Filtering DLRM**"
      ]
    },
    {
      "cell_type": "code",
      "metadata": {
        "id": "-fedhyMY0E-A",
        "colab_type": "code",
        "colab": {}
      },
      "source": [
        "import pandas as pd\n",
        "import numpy as np\n",
        "\n",
        "import tensorflow as tf\n",
        "from tensorflow import keras\n",
        "from keras.layers import Input, Embedding, Reshape, Dot, Concatenate, Dense, Dropout\n",
        "from keras.models import Model\n",
        "from keras.utils.vis_utils import plot_model\n",
        "\n",
        "from scipy.sparse import vstack\n",
        "import matplotlib.pyplot as plt\n",
        "from sklearn.metrics import mean_squared_error\n",
        "from sklearn.model_selection import train_test_split\n",
        "import warnings\n",
        "warnings.filterwarnings(\"ignore\")"
      ],
      "execution_count": 240,
      "outputs": []
    },
    {
      "cell_type": "code",
      "metadata": {
        "id": "wWhwp1N80E-F",
        "colab_type": "code",
        "colab": {}
      },
      "source": [
        "filepath = '/content/drive/My Drive/Assignments/256/Assignment-2/Dataset/finalDataSet.csv'\n",
        "bookDF = pd.read_csv(filepath)\n",
        "bookDF.drop(bookDF.columns[bookDF.columns.str.contains('unnamed',case = False)],axis = 1, inplace = True)\n",
        "#bookDF.head()"
      ],
      "execution_count": 241,
      "outputs": []
    },
    {
      "cell_type": "code",
      "metadata": {
        "id": "PxgD7jC40E-L",
        "colab_type": "code",
        "colab": {
          "base_uri": "https://localhost:8080/",
          "height": 34
        },
        "outputId": "6a5da1ae-663e-411e-c35f-98f91ccc7e06"
      },
      "source": [
        "df = bookDF.drop(['title'],axis=1)\n",
        "df.rating.unique()"
      ],
      "execution_count": 242,
      "outputs": [
        {
          "output_type": "execute_result",
          "data": {
            "text/plain": [
              "array([3, 4, 2, 0, 5, 1])"
            ]
          },
          "metadata": {
            "tags": []
          },
          "execution_count": 242
        }
      ]
    },
    {
      "cell_type": "markdown",
      "metadata": {
        "id": "u-1aqLJFE6Ic",
        "colab_type": "text"
      },
      "source": [
        "# **Mappings**"
      ]
    },
    {
      "cell_type": "code",
      "metadata": {
        "id": "1gzXyAk_0E-T",
        "colab_type": "code",
        "colab": {}
      },
      "source": [
        "#create mappings\n",
        "\n",
        "user_ids = df[\"user_id\"].unique().tolist()\n",
        "user2idx = {x: i for i, x in enumerate(user_ids)}\n",
        "\n",
        "book_ids = df[\"book_id\"].unique().tolist()\n",
        "book2idx = {x: i for i, x in enumerate(book_ids)}\n",
        "idx2book = {i: x for i, x in enumerate(book_ids)}\n",
        "\n",
        "genres = df[\"genre\"].unique().tolist()\n",
        "genres2idx = {x: i for i, x in enumerate(genres)}\n",
        "\n",
        "author_names = df[\"author_name\"].unique().tolist()\n",
        "author2idx = {x: i for i, x in enumerate(author_names)}\n",
        "\n",
        "country_code = df[\"country_code\"].unique().tolist()\n",
        "cc2idx = {x: i for i, x in enumerate(country_code)}\n",
        "\n",
        "language_code = df[\"language_code\"].unique().tolist()\n",
        "lc2idx = {x: i for i, x in enumerate(language_code)}\n",
        "\n",
        "is_ebook = df[\"is_ebook\"].unique().tolist()\n",
        "ebook2idx = {x: i for i, x in enumerate(is_ebook)}\n",
        "\n",
        "df[\"user\"] = df[\"user_id\"].map(user2idx)\n",
        "df[\"book\"] = df[\"book_id\"].map(book2idx)\n",
        "df[\"genre_n\"] = df[\"genre\"].map(genres2idx)\n",
        "df[\"author\"] = df[\"author_name\"].map(author2idx)\n",
        "df[\"country\"] = df[\"country_code\"].map(cc2idx)\n",
        "df[\"language\"] = df[\"language_code\"].map(lc2idx)\n",
        "df[\"ebook\"] = df[\"is_ebook\"].map(ebook2idx)\n",
        "\n",
        "num_users = len(user2idx)\n",
        "num_books = len(book2idx)\n",
        "num_genres = len(genres2idx)\n",
        "num_authors = len(author2idx)\n",
        "num_cc = len(cc2idx)\n",
        "num_lc = len(lc2idx)\n",
        "num_ebook = len(ebook2idx)\n",
        "\n",
        "X = df[[\"user\", \"book\", \"genre_n\", \"author\",\"ebook\"]].values\n",
        "\n",
        "# Normalize the targets between 0 and 1.\n",
        "y = df[\"rating\"].apply(lambda x: x/ 5).values\n",
        "\n",
        "X_train,X_val,y_train,y_val = train_test_split(X,y,test_size=0.7,random_state=42)"
      ],
      "execution_count": 243,
      "outputs": []
    },
    {
      "cell_type": "markdown",
      "metadata": {
        "id": "WdRFj9lcE17b",
        "colab_type": "text"
      },
      "source": [
        "# **Embedding Layers**"
      ]
    },
    {
      "cell_type": "code",
      "metadata": {
        "id": "D1UIn3DT0E-W",
        "colab_type": "code",
        "colab": {}
      },
      "source": [
        "# embedding size for 50\n",
        "embedding_size = 50\n",
        "\n",
        "user_id_input = Input(shape=[1],name=\"user\")\n",
        "book_id_input = Input(shape=[1],name=\"book\")\n",
        "genre_input = Input(shape=[1],name=\"genre\")\n",
        "author_input = Input(shape=[1],name=\"author\")\n",
        "cc_input = Input(shape=[1],name=\"cc\")\n",
        "lc_input = Input(shape=[1],name=\"lc\")\n",
        "ebook_input = Input(shape=[1],name=\"ebook\")\n",
        "\n",
        "# Create embedding layers\n",
        "\n",
        "user_embedding = Embedding(output_dim=embedding_size, \n",
        "                           input_dim=num_users,\n",
        "                           input_length=1, \n",
        "                           embeddings_initializer=\"he_normal\",\n",
        "                           embeddings_regularizer=keras.regularizers.l2(1e-6),\n",
        "                           name='user_embedding')(user_id_input)\n",
        "\n",
        "book_embedding = Embedding(output_dim=embedding_size, \n",
        "                            input_dim=num_books,\n",
        "                            input_length=1, \n",
        "                            embeddings_initializer=\"he_normal\",\n",
        "                            embeddings_regularizer=keras.regularizers.l2(1e-6),\n",
        "                            name='book_embedding')(book_id_input)\n",
        "\n",
        "genre_embedding = Embedding(output_dim=embedding_size, \n",
        "                           input_dim=num_genres,\n",
        "                           input_length=1, \n",
        "                           embeddings_initializer=\"he_normal\",\n",
        "                           embeddings_regularizer=keras.regularizers.l2(1e-6),\n",
        "                           name='genre_embedding')(genre_input)\n",
        "\n",
        "author_embedding = Embedding(output_dim=embedding_size, \n",
        "                            input_dim=num_authors,\n",
        "                            input_length=1, \n",
        "                            embeddings_initializer=\"he_normal\",\n",
        "                            embeddings_regularizer=keras.regularizers.l2(1e-6),\n",
        "                            name='author_embedding')(author_input)\n",
        "\n",
        "cc_embedding = Embedding(output_dim=embedding_size, \n",
        "                            input_dim=num_cc,\n",
        "                            input_length=1, \n",
        "                            embeddings_initializer=\"he_normal\",\n",
        "                            embeddings_regularizer=keras.regularizers.l2(1e-6),\n",
        "                            name='cc_embedding')(cc_input)\n",
        "\n",
        "lc_embedding = Embedding(output_dim=embedding_size, \n",
        "                            input_dim=num_lc,\n",
        "                            input_length=1, \n",
        "                            embeddings_initializer=\"he_normal\",\n",
        "                            embeddings_regularizer=keras.regularizers.l2(1e-6),\n",
        "                            name='lc_embedding')(lc_input)\n",
        "\n",
        "ebook_embedding = Embedding(output_dim=embedding_size, \n",
        "                            input_dim=num_ebook,\n",
        "                            input_length=1, \n",
        "                            embeddings_initializer=\"he_normal\",\n",
        "                            embeddings_regularizer=keras.regularizers.l2(1e-6),\n",
        "                            name='ebook_embedding')(ebook_input)\n",
        "\n",
        "# Reshape the embedding layers\n",
        "user_vector = Reshape([embedding_size])(user_embedding)\n",
        "book_vector = Reshape([embedding_size])(book_embedding)\n",
        "genre_vector = Reshape([embedding_size])(genre_embedding)\n",
        "author_vector = Reshape([embedding_size])(author_embedding)\n",
        "cc_vector = Reshape([embedding_size])(cc_embedding)\n",
        "lc_vector = Reshape([embedding_size])(lc_embedding)\n",
        "ebook_vector = Reshape([embedding_size])(ebook_embedding)\n",
        "\n",
        "concat = Concatenate()([user_vector,book_vector,genre_vector,author_vector,ebook_vector])"
      ],
      "execution_count": 244,
      "outputs": []
    },
    {
      "cell_type": "markdown",
      "metadata": {
        "id": "kTQtBpK8Evr8",
        "colab_type": "text"
      },
      "source": [
        "# **Creating Model**"
      ]
    },
    {
      "cell_type": "code",
      "metadata": {
        "id": "8z4Cwp4g36JE",
        "colab_type": "code",
        "colab": {}
      },
      "source": [
        "#Creating Model\n",
        "\n",
        "Dense1 = Dense(256)(concat)\n",
        "Dense2 = Dropout(0.2)(Dense1)\n",
        "\n",
        "# Using sigmoid activation to enforce the rating between 0 and 1\n",
        "y = Dense(1, activation=\"sigmoid\")(Dense2)\n",
        "\n",
        "model = Model(inputs=[user_id_input,book_id_input,genre_input,author_input,ebook_input],outputs=y)\n",
        "model.compile(loss='mse',  optimizer = 'adam')\n",
        "callback = tf.keras.callbacks.EarlyStopping(monitor='loss',patience=2)"
      ],
      "execution_count": null,
      "outputs": []
    },
    {
      "cell_type": "code",
      "metadata": {
        "id": "5shG6cqO4ViN",
        "colab_type": "code",
        "colab": {
          "base_uri": "https://localhost:8080/",
          "height": 85
        },
        "outputId": "e33e4b4b-c285-4b79-ee3e-4903bba8e99a"
      },
      "source": [
        "history = model.fit(x = [X_train[:,0],X_train[:,1],X_train[:,2],X_train[:,3],X_train[:,4]],\n",
        "                    y=y_train,\n",
        "                    batch_size=256,\n",
        "                    epochs=2,\n",
        "                    validation_data=([X_val[:,0],X_val[:,1],X_val[:,2],X_val[:,3],X_val[:,4]],y_val),\n",
        "                    callbacks = [callback]\n",
        "                    )"
      ],
      "execution_count": null,
      "outputs": [
        {
          "output_type": "stream",
          "text": [
            "Epoch 1/2\n",
            "3721/3721 [==============================] - 989s 266ms/step - loss: 0.0494 - val_loss: 0.0496\n",
            "Epoch 2/2\n",
            "3721/3721 [==============================] - 981s 264ms/step - loss: 0.0446 - val_loss: 0.0496\n"
          ],
          "name": "stdout"
        }
      ]
    },
    {
      "cell_type": "markdown",
      "metadata": {
        "id": "IKSJRtOmE-WN",
        "colab_type": "text"
      },
      "source": [
        "# **Save the Model**"
      ]
    },
    {
      "cell_type": "code",
      "metadata": {
        "id": "uFyIGPaIDVa3",
        "colab_type": "code",
        "colab": {}
      },
      "source": [
        "model.save('/content/drive/My Drive/Assignments/256/Assignment-2/Model ')"
      ],
      "execution_count": null,
      "outputs": []
    },
    {
      "cell_type": "code",
      "metadata": {
        "id": "4KeDDfk3FnX3",
        "colab_type": "code",
        "colab": {
          "base_uri": "https://localhost:8080/",
          "height": 344
        },
        "outputId": "8c3ee17c-5d93-4a0f-aa7a-d86e263c824b"
      },
      "source": [
        "plot_model(model, to_file='model_plot.png', show_shapes=True, show_layer_names=True)"
      ],
      "execution_count": null,
      "outputs": [
        {
          "output_type": "execute_result",
          "data": {
            "image/png": "[encoded data removed]",
            "text/plain": [
              "<IPython.core.display.Image object>"
            ]
          },
          "metadata": {
            "tags": []
          },
          "execution_count": 20
        }
      ]
    },
    {
      "cell_type": "markdown",
      "metadata": {
        "id": "_fExrzOMFCle",
        "colab_type": "text"
      },
      "source": [
        "# **Load Model**"
      ]
    },
    {
      "cell_type": "code",
      "metadata": {
        "id": "Gv3OP-fYsfnN",
        "colab_type": "code",
        "colab": {}
      },
      "source": [
        "model = keras.models.load_model('/content/drive/My Drive/Assignments/256/Assignment-2/Model ')"
      ],
      "execution_count": 245,
      "outputs": []
    },
    {
      "cell_type": "code",
      "metadata": {
        "id": "EH8DudADF-a0",
        "colab_type": "code",
        "colab": {
          "base_uri": "https://localhost:8080/",
          "height": 204
        },
        "outputId": "6ad92027-a29b-4986-aad7-ea587f0166b6"
      },
      "source": [
        "# Comparing Predicted and Actual values for 10 results\n",
        "p , a = (model.predict([X_val[:10,0], X_val[:10,1], X_val[:10,2], X_val[:10,3], X_val[:10,4]]) , y_val[:10])\n",
        "print(\"Ratings Normalized between 0 and 1 which were original between 1 and 5\")\n",
        "for i in range(len(p)):\n",
        "    print(\"predicted: \"+ str(np.round(p[i],1)) +\" actual: \"+ str(round(a[i],1)) )"
      ],
      "execution_count": null,
      "outputs": [
        {
          "output_type": "stream",
          "text": [
            "Ratings Normalized between 0 and 1 which were original between 1 and 5\n",
            "predicted: [0.7] actual: 1.0\n",
            "predicted: [0.5] actual: 0.6\n",
            "predicted: [0.8] actual: 0.0\n",
            "predicted: [0.8] actual: 1.0\n",
            "predicted: [0.9] actual: 1.0\n",
            "predicted: [0.6] actual: 0.4\n",
            "predicted: [0.7] actual: 1.0\n",
            "predicted: [0.7] actual: 0.8\n",
            "predicted: [0.9] actual: 1.0\n",
            "predicted: [0.8] actual: 0.8\n"
          ],
          "name": "stdout"
        }
      ]
    },
    {
      "cell_type": "markdown",
      "metadata": {
        "id": "jRYF5j37FF18",
        "colab_type": "text"
      },
      "source": [
        "# **Recommendation Test Case for Colab Notebook**"
      ]
    },
    {
      "cell_type": "code",
      "metadata": {
        "id": "HTQOygyHs54_",
        "colab_type": "code",
        "colab": {}
      },
      "source": [
        "def get_recommendations(user_id):\n",
        "  books_read_by_user = df[df.user_id == user_id]\n",
        "  user = books_read_by_user.user.unique()\n",
        "  books_not_read = df[~df[\"book_id\"].isin(books_read_by_user.book_id.values)][\"book\"]\n",
        "  books_not_read.drop_duplicates(inplace=True)\n",
        "  books_not_read = list(\n",
        "          set(books_not_read).intersection(set(book2idx.keys()))\n",
        "      )\n",
        "  books_not_read = np.array(books_not_read)\n",
        "\n",
        "  user_input = [user[0]] * len(books_not_read)\n",
        "  user_input = np.array(user_input)\n",
        "  genre_input = np.random.randint(0,2,len(books_not_read))\n",
        "  author_input = np.random.randint(0,31502,len(books_not_read))\n",
        "  ebook_input = np.random.randint(0,2,len(books_not_read))\n",
        "\n",
        "  ratings = model.predict([books_not_read, user_input,genre_input,author_input,ebook_input]).flatten()\n",
        "  top_ratings_indices = ratings.argsort()[-10:][::-1]\n",
        "  \n",
        "  recommended_books_ids = [\n",
        "      idx2book.get(books_not_read[x]) for x in top_ratings_indices\n",
        "  ]\n",
        "  recommended_books_ids = set(recommended_books_ids)\n",
        "  \n",
        "  print(\"Showing recommendations for user: {}\".format(user_id))\n",
        "  print(\"=\" * 36)\n",
        "  print(\"Books with high ratings from user\")\n",
        "  print(\"-\" * 36)\n",
        "  top_books_user = (\n",
        "      books_read_by_user.sort_values(by=\"rating\", ascending=False)\n",
        "      .head(5)\n",
        "      .book_id.values\n",
        "  )\n",
        "  book_df_rows = bookDF[bookDF[\"book_id\"].isin(top_books_user)]\n",
        "  result1 = set()\n",
        "  for row in book_df_rows.itertuples():\n",
        "      result1.add(row.title + \" : \" + row.genre)\n",
        "\n",
        "  for res in result1:\n",
        "    print(res)\n",
        "\n",
        "  print(\"-\" * 36)\n",
        "  print(\" Top 10 Book recommendations\")\n",
        "  print(\"-\" * 36)\n",
        "\n",
        "  recommended_books = bookDF[bookDF[\"book_id\"].isin(recommended_books_ids)][['book_id','title','genre']]\n",
        "  result2 = set()\n",
        "  for row in recommended_books.itertuples():\n",
        "      result2.add(row.title + \" : \" + row.genre)\n",
        "\n",
        "  for res in result2:\n",
        "    print(res)"
      ],
      "execution_count": 247,
      "outputs": []
    },
    {
      "cell_type": "code",
      "metadata": {
        "id": "Bv2j2i4WiBuQ",
        "colab_type": "code",
        "colab": {
          "base_uri": "https://localhost:8080/",
          "height": 408
        },
        "outputId": "c4b42505-18a2-49ba-9c81-3ef2330cf009"
      },
      "source": [
        "get_recommendations('18b61748a52de671cb549d812b9740c8')"
      ],
      "execution_count": null,
      "outputs": [
        {
          "output_type": "stream",
          "text": [
            "Showing recommendations for user: 18b61748a52de671cb549d812b9740c8\n",
            "====================================\n",
            "Books with high ratings from user\n",
            "------------------------------------\n",
            "Redwall (Redwall, #1) : Fantasy and Paranormal\n",
            "The Last Watch (Watch #4) : Fantasy and Paranormal\n",
            "Dragon Rider (Dragon Rider, #1) : Fantasy and Paranormal\n",
            "Neverwhere : Fantasy and Paranormal\n",
            "The Princess Bride : Fantasy and Paranormal\n",
            "------------------------------------\n",
            " Top Book recommendations\n",
            "------------------------------------\n",
            "The Witching Hour (Lives of the Mayfair Witches, #1) : Fantasy and Paranormal\n",
            "Changes (The Dresden Files, #12) : Fantasy and Paranormal\n",
            "Naruto Vol. 54 : Comics and Graphics\n",
            "Griffin's Daughter (Griffin's Daughter Trilogy, #1) : Fantasy and Paranormal\n",
            "Apocalipsis : Fantasy and Paranormal\n",
            "Naruto Vol. 54 : Fantasy and Paranormal\n",
            "The Chronicles of Prydain Boxed Set (The Chronicles of Prydain #1-5) : Fantasy and Paranormal\n",
            "A New Hope  (Star Wars: Novelizations #4) : Fantasy and Paranormal\n",
            "My Protector (Bewitched and Bewildered, #2) : Fantasy and Paranormal\n",
            "The Rowan (The Tower and the Hive, #1) : Fantasy and Paranormal\n",
            "Le nebbie di Avalon : Fantasy and Paranormal\n"
          ],
          "name": "stdout"
        }
      ]
    },
    {
      "cell_type": "code",
      "metadata": {
        "id": "8VTGMKmr9sSm",
        "colab_type": "code",
        "colab": {
          "base_uri": "https://localhost:8080/",
          "height": 408
        },
        "outputId": "6275e416-b2ee-45bc-9940-d3d9c86745a0"
      },
      "source": [
        "get_recommendations('b0ed09d14a462cb2d27327b87edf6f68')"
      ],
      "execution_count": null,
      "outputs": [
        {
          "output_type": "stream",
          "text": [
            "Showing recommendations for user: b0ed09d14a462cb2d27327b87edf6f68\n",
            "====================================\n",
            "Books with high ratings from user\n",
            "------------------------------------\n",
            "The Djinn in the Nightingale's Eye : Fantasy and Paranormal\n",
            "Wolves and Witches : Fantasy and Paranormal\n",
            "The Autumnlands, Vol. 1: Tooth and Claw : Comics and Graphics\n",
            "The Lake : Fantasy and Paranormal\n",
            "Castles : Fantasy and Paranormal\n",
            "------------------------------------\n",
            " Top Book recommendations\n",
            "------------------------------------\n",
            "Mud : Fantasy and Paranormal\n",
            "Changes (The Dresden Files, #12) : Fantasy and Paranormal\n",
            "Naruto Vol. 54 : Comics and Graphics\n",
            "Griffin's Daughter (Griffin's Daughter Trilogy, #1) : Fantasy and Paranormal\n",
            "Naruto Vol. 54 : Fantasy and Paranormal\n",
            "Sky Dragons : Fantasy and Paranormal\n",
            "The Chronicles of Prydain Boxed Set (The Chronicles of Prydain #1-5) : Fantasy and Paranormal\n",
            "A New Hope  (Star Wars: Novelizations #4) : Fantasy and Paranormal\n",
            "Ghosts of Memories : Fantasy and Paranormal\n",
            "A Clash of Kings (A Song of Ice and Fire, #2) : Fantasy and Paranormal\n",
            "Bluthexe (Das Buch der Schatten, #3) : Fantasy and Paranormal\n"
          ],
          "name": "stdout"
        }
      ]
    },
    {
      "cell_type": "markdown",
      "metadata": {
        "id": "HrAYE_MA2tVy",
        "colab_type": "text"
      },
      "source": [
        "# **Store Recommendation for 50 users to display on the UI**"
      ]
    },
    {
      "cell_type": "code",
      "metadata": {
        "id": "E1IpYHAn2sWa",
        "colab_type": "code",
        "colab": {}
      },
      "source": [
        "def get_recommendationsUI(user_id):\n",
        "  books_read_by_user = df[df.user_id == user_id]\n",
        "  user = books_read_by_user.user.unique()\n",
        "  books_not_read = df[~df[\"book_id\"].isin(books_read_by_user.book_id.values)][\"book\"]\n",
        "  books_not_read.drop_duplicates(inplace=True)\n",
        "  books_not_read = list(\n",
        "          set(books_not_read).intersection(set(book2idx.keys()))\n",
        "      )\n",
        "  books_not_read = np.array(books_not_read)\n",
        "\n",
        "  user_input = [user[0]] * len(books_not_read)\n",
        "  user_input = np.array(user_input)\n",
        "  genre_input = np.random.randint(0,2,len(books_not_read))\n",
        "  author_input = np.random.randint(0,31502,len(books_not_read))\n",
        "  ebook_input = np.random.randint(0,2,len(books_not_read))\n",
        "\n",
        "  ratings = model.predict([books_not_read, user_input,genre_input,author_input,ebook_input]).flatten()\n",
        "  top_ratings_indices = ratings.argsort()[-10:][::-1]\n",
        "  \n",
        "  recommended_books_ids = [\n",
        "      idx2book.get(books_not_read[x]) for x in top_ratings_indices\n",
        "  ]\n",
        "  recommended_books_ids = set(recommended_books_ids)\n",
        "  \n",
        "  top_books_user = (\n",
        "      books_read_by_user.sort_values(by=\"rating\", ascending=False)\n",
        "      .head(5)\n",
        "      .book_id.values\n",
        "  )\n",
        "  book_df_rows = bookDF[bookDF[\"book_id\"].isin(top_books_user)]\n",
        "\n",
        "  recommended_books = bookDF[bookDF[\"book_id\"].isin(recommended_books_ids)][['book_id','title','genre']]\n",
        "  \n",
        "  topLiked = []\n",
        "  topRecommended = []\n",
        "\n",
        "  book_df_rows = book_df_rows.itertuples()\n",
        "  for row in book_df_rows:\n",
        "    if [row.title,row.genre] not in topLiked:\n",
        "      topLiked.append([row.title,row.genre])\n",
        "\n",
        "  for row in recommended_books.itertuples():\n",
        "    if [row.title,row.genre] not in topRecommended:\n",
        "      topRecommended.append([row.title,row.genre])\n",
        "\n",
        "  return {'liked':topLiked,\n",
        "          'recommended':topRecommended}"
      ],
      "execution_count": 268,
      "outputs": []
    },
    {
      "cell_type": "code",
      "metadata": {
        "id": "l-uoDln44fZb",
        "colab_type": "code",
        "colab": {}
      },
      "source": [
        "USERS = df.user_id.unique()[:50]"
      ],
      "execution_count": 281,
      "outputs": []
    },
    {
      "cell_type": "code",
      "metadata": {
        "id": "XQ8Jz7gT42JU",
        "colab_type": "code",
        "colab": {}
      },
      "source": [
        "result = {}\n",
        "for u in USERS:\n",
        "  result[u]=get_recommendationsUI(u)"
      ],
      "execution_count": 282,
      "outputs": []
    },
    {
      "cell_type": "markdown",
      "metadata": {
        "id": "QttbWfgvFSiR",
        "colab_type": "text"
      },
      "source": [
        "# **Save to JSON**"
      ]
    },
    {
      "cell_type": "code",
      "metadata": {
        "id": "RLDTs0nj7PCf",
        "colab_type": "code",
        "colab": {}
      },
      "source": [
        "import json\n",
        "\n",
        "with open('/content/drive/My Drive/Assignments/256/Assignment-2/Recommed-App/results.json','w') as outfile:\n",
        "  json.dump(result,outfile)"
      ],
      "execution_count": 283,
      "outputs": []
    }
  ]
}